{
 "cells": [
  {
   "cell_type": "code",
   "execution_count": 1,
   "metadata": {
    "collapsed": false
   },
   "outputs": [],
   "source": [
    "from IPython.display import Image\n",
    "%matplotlib inline\n",
    "from ipywidgets import interact_manual, interactive\n",
    "import matplotlib.pyplot as plt\n",
    "import numpy as np"
   ]
  },
  {
   "cell_type": "markdown",
   "metadata": {},
   "source": [
    "# Where do I place my x?"
   ]
  },
  {
   "cell_type": "markdown",
   "metadata": {},
   "source": [
    "Consider a linear regression problem with unknown intercept, slope and standard deviation of the gaussian noise\n",
    "\n",
    "$$\n",
    "y_i=\\text{slope}\\, x_i+\\text{intercept} + \\text{noise}\n",
    "$$"
   ]
  },
  {
   "cell_type": "code",
   "execution_count": 2,
   "metadata": {
    "collapsed": false
   },
   "outputs": [],
   "source": [
    "#These are unknown\n",
    "slope=2\n",
    "intercept=1\n",
    "sigma=1/5 #standard deviation of the gaussian noise"
   ]
  },
  {
   "cell_type": "markdown",
   "metadata": {},
   "source": [
    "You need to estimate `slope` and `intercept`. \n",
    "\n",
    "An oracle will tell you the value of $y$ for the following x-values\n",
    "\n",
    "$$\n",
    "x=[0.1,0.4,0.7,x_4,x_5,x_6]\n",
    "$$\n",
    "\n",
    "where $x_4,x_5,x_6$ are covariates you can freely choose in the interval $[0,1]$."
   ]
  },
  {
   "cell_type": "code",
   "execution_count": 10,
   "metadata": {
    "collapsed": false
   },
   "outputs": [
    {
     "data": {
      "text/html": [
       "<img src=\"https://www.ancient-origins.net/sites/default/files/field/image/oracle-delphi.jpg\" width=\"400\"/>"
      ],
      "text/plain": [
       "<IPython.core.display.Image object>"
      ]
     },
     "execution_count": 10,
     "metadata": {},
     "output_type": "execute_result"
    }
   ],
   "source": [
    "Image(url='https://www.ancient-origins.net/sites/default/files/field/image/oracle-delphi.jpg', width=400)"
   ]
  },
  {
   "cell_type": "markdown",
   "metadata": {},
   "source": [
    "How should  you select $x_4,x_5,x_6$ to obtain the best estimate for `slope` and `intercept`?\n",
    "\n",
    "The following code simulates the Oracle. You can use it to test your strategy before talking to the Oracle."
   ]
  },
  {
   "cell_type": "code",
   "execution_count": 4,
   "metadata": {
    "collapsed": false
   },
   "outputs": [
    {
     "data": {
      "image/png": "[encoded data removed]",
      "text/plain": [
       "<Figure size 600x400 with 1 Axes>"
      ]
     },
     "metadata": {},
     "output_type": "display_data"
    }
   ],
   "source": [
    "def simulate_oracle(x4, x5, x6):\n",
    "    xx0=np.array([0.1,0.4,0.6])\n",
    "    xx1=np.array([x4,x5,x6])\n",
    "    x =np.hstack([xx0,xx1])\n",
    "    y0=slope*xx0+intercept +np.random.randn(len(xx0))*sigma\n",
    "    y1=slope*xx1+intercept +np.random.randn(len(xx1))*sigma    \n",
    "    y=np.hstack([y0,y1])\n",
    "    #linear regression\n",
    "    H=np.hstack([np.ones((len(x),1)),x.reshape(-1,1)])\n",
    "    beta=np.dot(np.linalg.matrix_power(np.dot(H.T,H),-1),np.dot(H.T,y.reshape(-1,1)))\n",
    "    \n",
    "    plt.scatter(xx0,y0,label='observations for the given x')\n",
    "    plt.axvline(x=x[0], linestyle=':')\n",
    "    plt.axvline(x=x[1], linestyle=':')\n",
    "    plt.axvline(x=x[2], linestyle=':')\n",
    "    plt.scatter(xx1,y1,label='observations for your x',color='r')\n",
    "    plt.axvline(x=x[3], linestyle=':',color='r')\n",
    "    plt.axvline(x=x[4], linestyle=':',color='r')\n",
    "    plt.axvline(x=x[5], linestyle=':',color='r')\n",
    "\n",
    "    plt.plot(np.array([0,1]),slope*np.array([0,1])+intercept ,label='true unknown line')\n",
    "    plt.xlabel('x')\n",
    "    plt.ylabel('y')\n",
    "    plt.plot(np.array([0,1]),beta[1]*np.array([0,1])+beta[0],label='linear regression estimate')\n",
    "    plt.legend(loc='center left', bbox_to_anchor=(1, 0.5))\n",
    "    plt.show()\n",
    "\n",
    "interactive_plot = interactive(simulate_oracle, x4=(0, 1.0, 0.1), x5=(0, 1, 0.1) , x6=(0, 1, 0.1))\n",
    "interactive_plot\n"
   ]
  }
 ],
 "metadata": {
  "kernelspec": {
   "display_name": "Python 3",
   "language": "python",
   "name": "python3"
  },
  "language_info": {
   "codemirror_mode": {
    "name": "ipython",
    "version": 3
   },
   "file_extension": ".py",
   "mimetype": "text/x-python",
   "name": "python",
   "nbconvert_exporter": "python",
   "pygments_lexer": "ipython3",
   "version": "3.5.6"
  },
  "toc": {
   "base_numbering": 1,
   "nav_menu": {},
   "number_sections": true,
   "sideBar": true,
   "skip_h1_title": false,
   "title_cell": "Table of Contents",
   "title_sidebar": "Contents",
   "toc_cell": false,
   "toc_position": {},
   "toc_section_display": true,
   "toc_window_display": false
  },
  "varInspector": {
   "cols": {
    "lenName": 16,
    "lenType": 16,
    "lenVar": 40
   },
   "kernels_config": {
    "python": {
     "delete_cmd_postfix": "",
     "delete_cmd_prefix": "del ",
     "library": "var_list.py",
     "varRefreshCmd": "print(var_dic_list())"
    },
    "r": {
     "delete_cmd_postfix": ") ",
     "delete_cmd_prefix": "rm(",
     "library": "var_list.r",
     "varRefreshCmd": "cat(var_dic_list()) "
    }
   },
   "types_to_exclude": [
    "module",
    "function",
    "builtin_function_or_method",
    "instance",
    "_Feature"
   ],
   "window_display": false
  }
 },
 "nbformat": 4,
 "nbformat_minor": 2
}
